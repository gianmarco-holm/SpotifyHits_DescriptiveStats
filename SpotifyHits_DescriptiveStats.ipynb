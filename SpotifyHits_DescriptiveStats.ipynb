{
  "cells": [
    {
      "cell_type": "markdown",
      "metadata": {
        "colab_type": "text",
        "id": "view-in-github"
      },
      "source": [
        "<a href=\"https://colab.research.google.com/github/gianmarco-holm/SpotifyHits_DescriptiveStats/blob/main/SpotifyHits_DescriptiveStats.ipynb\" target=\"_parent\"><img src=\"https://colab.research.google.com/assets/colab-badge.svg\" alt=\"Open In Colab\"/></a>"
      ]
    },
    {
      "cell_type": "markdown",
      "metadata": {
        "id": "9mKoHMGRVYbc"
      },
      "source": [
        "# Notebook de Análsis Estadístico Descriptivo de los Hits de Spotify"
      ]
    },
    {
      "cell_type": "markdown",
      "metadata": {
        "id": "BQEPQSwRVxrs"
      },
      "source": [
        "## Instalando Librerías"
      ]
    },
    {
      "cell_type": "code",
      "execution_count": 20,
      "metadata": {
        "id": "-YPeNeF2UYAq"
      },
      "outputs": [],
      "source": [
        "import numpy as np\n",
        "import pandas as pd\n",
        "import matplotlib.pyplot as plt\n",
        "import seaborn as sns\n",
        "import timeit\n",
        "from sklearn.preprocessing import StandardScaler, LabelEncoder\n",
        "from sklearn import linear_model\n",
        "from sklearn.decomposition import PCA"
      ]
    },
    {
      "cell_type": "markdown",
      "metadata": {
        "id": "NoZhNlSWWssK"
      },
      "source": [
        "## Extracción de Información"
      ]
    },
    {
      "cell_type": "code",
      "execution_count": 21,
      "metadata": {
        "id": "Mn5l0xghWyFK"
      },
      "outputs": [],
      "source": [
        "df = pd.read_csv('./data/Popular_Spotify_Songs.csv', encoding='latin1')"
      ]
    },
    {
      "cell_type": "code",
      "execution_count": 22,
      "metadata": {
        "colab": {
          "base_uri": "https://localhost:8080/",
          "height": 342
        },
        "id": "4OD0QDHycG9q",
        "outputId": "c1b5f57a-4e42-4040-d1b0-f53600cbd8e2"
      },
      "outputs": [
        {
          "data": {
            "text/html": [
              "<div>\n",
              "<style scoped>\n",
              "    .dataframe tbody tr th:only-of-type {\n",
              "        vertical-align: middle;\n",
              "    }\n",
              "\n",
              "    .dataframe tbody tr th {\n",
              "        vertical-align: top;\n",
              "    }\n",
              "\n",
              "    .dataframe thead th {\n",
              "        text-align: right;\n",
              "    }\n",
              "</style>\n",
              "<table border=\"1\" class=\"dataframe\">\n",
              "  <thead>\n",
              "    <tr style=\"text-align: right;\">\n",
              "      <th></th>\n",
              "      <th>track_name</th>\n",
              "      <th>artist(s)_name</th>\n",
              "      <th>artist_count</th>\n",
              "      <th>released_year</th>\n",
              "      <th>released_month</th>\n",
              "      <th>released_day</th>\n",
              "      <th>in_spotify_playlists</th>\n",
              "      <th>in_spotify_charts</th>\n",
              "      <th>streams</th>\n",
              "      <th>in_apple_playlists</th>\n",
              "      <th>...</th>\n",
              "      <th>bpm</th>\n",
              "      <th>key</th>\n",
              "      <th>mode</th>\n",
              "      <th>danceability_%</th>\n",
              "      <th>valence_%</th>\n",
              "      <th>energy_%</th>\n",
              "      <th>acousticness_%</th>\n",
              "      <th>instrumentalness_%</th>\n",
              "      <th>liveness_%</th>\n",
              "      <th>speechiness_%</th>\n",
              "    </tr>\n",
              "  </thead>\n",
              "  <tbody>\n",
              "    <tr>\n",
              "      <th>0</th>\n",
              "      <td>Seven (feat. Latto) (Explicit Ver.)</td>\n",
              "      <td>Latto, Jung Kook</td>\n",
              "      <td>2</td>\n",
              "      <td>2023</td>\n",
              "      <td>7</td>\n",
              "      <td>14</td>\n",
              "      <td>553</td>\n",
              "      <td>147</td>\n",
              "      <td>141381703</td>\n",
              "      <td>43</td>\n",
              "      <td>...</td>\n",
              "      <td>125</td>\n",
              "      <td>B</td>\n",
              "      <td>Major</td>\n",
              "      <td>80</td>\n",
              "      <td>89</td>\n",
              "      <td>83</td>\n",
              "      <td>31</td>\n",
              "      <td>0</td>\n",
              "      <td>8</td>\n",
              "      <td>4</td>\n",
              "    </tr>\n",
              "    <tr>\n",
              "      <th>1</th>\n",
              "      <td>LALA</td>\n",
              "      <td>Myke Towers</td>\n",
              "      <td>1</td>\n",
              "      <td>2023</td>\n",
              "      <td>3</td>\n",
              "      <td>23</td>\n",
              "      <td>1474</td>\n",
              "      <td>48</td>\n",
              "      <td>133716286</td>\n",
              "      <td>48</td>\n",
              "      <td>...</td>\n",
              "      <td>92</td>\n",
              "      <td>C#</td>\n",
              "      <td>Major</td>\n",
              "      <td>71</td>\n",
              "      <td>61</td>\n",
              "      <td>74</td>\n",
              "      <td>7</td>\n",
              "      <td>0</td>\n",
              "      <td>10</td>\n",
              "      <td>4</td>\n",
              "    </tr>\n",
              "    <tr>\n",
              "      <th>2</th>\n",
              "      <td>vampire</td>\n",
              "      <td>Olivia Rodrigo</td>\n",
              "      <td>1</td>\n",
              "      <td>2023</td>\n",
              "      <td>6</td>\n",
              "      <td>30</td>\n",
              "      <td>1397</td>\n",
              "      <td>113</td>\n",
              "      <td>140003974</td>\n",
              "      <td>94</td>\n",
              "      <td>...</td>\n",
              "      <td>138</td>\n",
              "      <td>F</td>\n",
              "      <td>Major</td>\n",
              "      <td>51</td>\n",
              "      <td>32</td>\n",
              "      <td>53</td>\n",
              "      <td>17</td>\n",
              "      <td>0</td>\n",
              "      <td>31</td>\n",
              "      <td>6</td>\n",
              "    </tr>\n",
              "    <tr>\n",
              "      <th>3</th>\n",
              "      <td>Cruel Summer</td>\n",
              "      <td>Taylor Swift</td>\n",
              "      <td>1</td>\n",
              "      <td>2019</td>\n",
              "      <td>8</td>\n",
              "      <td>23</td>\n",
              "      <td>7858</td>\n",
              "      <td>100</td>\n",
              "      <td>800840817</td>\n",
              "      <td>116</td>\n",
              "      <td>...</td>\n",
              "      <td>170</td>\n",
              "      <td>A</td>\n",
              "      <td>Major</td>\n",
              "      <td>55</td>\n",
              "      <td>58</td>\n",
              "      <td>72</td>\n",
              "      <td>11</td>\n",
              "      <td>0</td>\n",
              "      <td>11</td>\n",
              "      <td>15</td>\n",
              "    </tr>\n",
              "    <tr>\n",
              "      <th>4</th>\n",
              "      <td>WHERE SHE GOES</td>\n",
              "      <td>Bad Bunny</td>\n",
              "      <td>1</td>\n",
              "      <td>2023</td>\n",
              "      <td>5</td>\n",
              "      <td>18</td>\n",
              "      <td>3133</td>\n",
              "      <td>50</td>\n",
              "      <td>303236322</td>\n",
              "      <td>84</td>\n",
              "      <td>...</td>\n",
              "      <td>144</td>\n",
              "      <td>A</td>\n",
              "      <td>Minor</td>\n",
              "      <td>65</td>\n",
              "      <td>23</td>\n",
              "      <td>80</td>\n",
              "      <td>14</td>\n",
              "      <td>63</td>\n",
              "      <td>11</td>\n",
              "      <td>6</td>\n",
              "    </tr>\n",
              "  </tbody>\n",
              "</table>\n",
              "<p>5 rows × 24 columns</p>\n",
              "</div>"
            ],
            "text/plain": [
              "                            track_name    artist(s)_name  artist_count  \\\n",
              "0  Seven (feat. Latto) (Explicit Ver.)  Latto, Jung Kook             2   \n",
              "1                                 LALA       Myke Towers             1   \n",
              "2                              vampire    Olivia Rodrigo             1   \n",
              "3                         Cruel Summer      Taylor Swift             1   \n",
              "4                       WHERE SHE GOES         Bad Bunny             1   \n",
              "\n",
              "   released_year  released_month  released_day  in_spotify_playlists  \\\n",
              "0           2023               7            14                   553   \n",
              "1           2023               3            23                  1474   \n",
              "2           2023               6            30                  1397   \n",
              "3           2019               8            23                  7858   \n",
              "4           2023               5            18                  3133   \n",
              "\n",
              "   in_spotify_charts    streams  in_apple_playlists  ...  bpm key   mode  \\\n",
              "0                147  141381703                  43  ...  125   B  Major   \n",
              "1                 48  133716286                  48  ...   92  C#  Major   \n",
              "2                113  140003974                  94  ...  138   F  Major   \n",
              "3                100  800840817                 116  ...  170   A  Major   \n",
              "4                 50  303236322                  84  ...  144   A  Minor   \n",
              "\n",
              "  danceability_%  valence_% energy_% acousticness_%  instrumentalness_%  \\\n",
              "0             80         89       83             31                   0   \n",
              "1             71         61       74              7                   0   \n",
              "2             51         32       53             17                   0   \n",
              "3             55         58       72             11                   0   \n",
              "4             65         23       80             14                  63   \n",
              "\n",
              "   liveness_%  speechiness_%  \n",
              "0           8              4  \n",
              "1          10              4  \n",
              "2          31              6  \n",
              "3          11             15  \n",
              "4          11              6  \n",
              "\n",
              "[5 rows x 24 columns]"
            ]
          },
          "execution_count": 22,
          "metadata": {},
          "output_type": "execute_result"
        }
      ],
      "source": [
        "df.head()"
      ]
    },
    {
      "cell_type": "markdown",
      "metadata": {
        "id": "nxGD5fZPhvR5"
      },
      "source": [
        "### Estructura de la data:\n",
        "\n",
        "1. **track_name**: El nombre de la canción.\n",
        "2. **artist(s)_name**: El nombre del artista o artistas que interpretan la canción.\n",
        "3. **artist_count**: La cantidad de artistas que participan en la canción.\n",
        "4. **released_year**: El año en que se lanzó la canción.\n",
        "5. **released_month**: El mes en que se lanzó la canción.\n",
        "6. **released_day**: El día en que se lanzó la canción.\n",
        "7. **in_spotify_playlists**: Indica si la canción está presente en listas de reproducción de Spotify.\n",
        "8. **in_spotify_charts**: Indica si la canción está presente en las listas de éxitos de Spotify.\n",
        "9. **streams**: La cantidad de transmisiones que ha tenido la canción.\n",
        "10. **in_apple_playlists**: Indica si la canción está presente en listas de reproducción de Apple Music.\n",
        "11. **in_apple_charts**: Indica si la canción está presente en las listas de éxitos de Apple Music.\n",
        "12. **in_deezer_playlists**: Indica si la canción está presente en listas de reproducción de Deezer.\n",
        "13. **in_deezer_charts**: Indica si la canción está presente en las listas de éxitos de Deezer.\n",
        "14. **in_shazam_charts**: Indica si la canción está presente en las listas de éxitos de Shazam.\n",
        "15. **bpm**: Los beats por minuto de la canción.\n",
        "16. **key**: La tonalidad de la canción.\n",
        "17. **mode**: El modo de la canción (mayor o menor).\n",
        "18. **danceability_%**: La medida en que una canción es adecuada para bailar, en porcentaje.\n",
        "19. **valence_%**: La positividad de la canción, en porcentaje.\n",
        "20. **energy_%**: La energía de la canción, en porcentaje.\n",
        "21. **acousticness_%**: La cantidad de elementos acústicos en la canción, en porcentaje.\n",
        "22. **instrumentalness_%**: La cantidad de elementos instrumentales en la canción, en porcentaje.\n",
        "23. **liveness_%**: La probabilidad de que la canción haya sido grabada en vivo, en porcentaje.\n",
        "24. **speechiness_%**: La cantidad de elementos de habla en la canción, en porcentaje.\n"
      ]
    },
    {
      "cell_type": "code",
      "execution_count": 23,
      "metadata": {
        "colab": {
          "base_uri": "https://localhost:8080/"
        },
        "id": "u3BdlkuPkP-V",
        "outputId": "77b3312c-d4c4-46bc-b25c-45303a95b973"
      },
      "outputs": [
        {
          "data": {
            "text/plain": [
              "track_name              object\n",
              "artist(s)_name          object\n",
              "artist_count             int64\n",
              "released_year            int64\n",
              "released_month           int64\n",
              "released_day             int64\n",
              "in_spotify_playlists     int64\n",
              "in_spotify_charts        int64\n",
              "streams                 object\n",
              "in_apple_playlists       int64\n",
              "in_apple_charts          int64\n",
              "in_deezer_playlists     object\n",
              "in_deezer_charts         int64\n",
              "in_shazam_charts        object\n",
              "bpm                      int64\n",
              "key                     object\n",
              "mode                    object\n",
              "danceability_%           int64\n",
              "valence_%                int64\n",
              "energy_%                 int64\n",
              "acousticness_%           int64\n",
              "instrumentalness_%       int64\n",
              "liveness_%               int64\n",
              "speechiness_%            int64\n",
              "dtype: object"
            ]
          },
          "execution_count": 23,
          "metadata": {},
          "output_type": "execute_result"
        }
      ],
      "source": [
        "# Verificamos los tipos de datos stadísticos, si son númericos o categóricos\n",
        "df.dtypes"
      ]
    },
    {
      "cell_type": "markdown",
      "metadata": {
        "id": "QaofZwwpj-x4"
      },
      "source": [
        "## Medidas Centrales"
      ]
    },
    {
      "cell_type": "markdown",
      "metadata": {
        "id": "dqEw4Q45sSaZ"
      },
      "source": [
        "#### Transformaciones"
      ]
    },
    {
      "cell_type": "code",
      "execution_count": 24,
      "metadata": {
        "colab": {
          "base_uri": "https://localhost:8080/",
          "height": 182
        },
        "id": "X0iQ6LA3prA8",
        "outputId": "1c257a23-6651-4e9a-82d4-91056fb54aa6"
      },
      "outputs": [
        {
          "data": {
            "text/html": [
              "<div>\n",
              "<style scoped>\n",
              "    .dataframe tbody tr th:only-of-type {\n",
              "        vertical-align: middle;\n",
              "    }\n",
              "\n",
              "    .dataframe tbody tr th {\n",
              "        vertical-align: top;\n",
              "    }\n",
              "\n",
              "    .dataframe thead th {\n",
              "        text-align: right;\n",
              "    }\n",
              "</style>\n",
              "<table border=\"1\" class=\"dataframe\">\n",
              "  <thead>\n",
              "    <tr style=\"text-align: right;\">\n",
              "      <th></th>\n",
              "      <th>track_name</th>\n",
              "      <th>artist(s)_name</th>\n",
              "      <th>artist_count</th>\n",
              "      <th>released_year</th>\n",
              "      <th>released_month</th>\n",
              "      <th>released_day</th>\n",
              "      <th>in_spotify_playlists</th>\n",
              "      <th>in_spotify_charts</th>\n",
              "      <th>streams</th>\n",
              "      <th>in_apple_playlists</th>\n",
              "      <th>...</th>\n",
              "      <th>key</th>\n",
              "      <th>mode</th>\n",
              "      <th>danceability_%</th>\n",
              "      <th>valence_%</th>\n",
              "      <th>energy_%</th>\n",
              "      <th>acousticness_%</th>\n",
              "      <th>instrumentalness_%</th>\n",
              "      <th>liveness_%</th>\n",
              "      <th>speechiness_%</th>\n",
              "      <th>streams_numerics</th>\n",
              "    </tr>\n",
              "  </thead>\n",
              "  <tbody>\n",
              "    <tr>\n",
              "      <th>574</th>\n",
              "      <td>Love Grows (Where My Rosemary Goes)</td>\n",
              "      <td>Edison Lighthouse</td>\n",
              "      <td>1</td>\n",
              "      <td>1970</td>\n",
              "      <td>1</td>\n",
              "      <td>1</td>\n",
              "      <td>2877</td>\n",
              "      <td>0</td>\n",
              "      <td>BPM110KeyAModeMajorDanceability53Valence75Ener...</td>\n",
              "      <td>16</td>\n",
              "      <td>...</td>\n",
              "      <td>A</td>\n",
              "      <td>Major</td>\n",
              "      <td>53</td>\n",
              "      <td>75</td>\n",
              "      <td>69</td>\n",
              "      <td>7</td>\n",
              "      <td>0</td>\n",
              "      <td>17</td>\n",
              "      <td>3</td>\n",
              "      <td>NaN</td>\n",
              "    </tr>\n",
              "  </tbody>\n",
              "</table>\n",
              "<p>1 rows × 25 columns</p>\n",
              "</div>"
            ],
            "text/plain": [
              "                              track_name     artist(s)_name  artist_count  \\\n",
              "574  Love Grows (Where My Rosemary Goes)  Edison Lighthouse             1   \n",
              "\n",
              "     released_year  released_month  released_day  in_spotify_playlists  \\\n",
              "574           1970               1             1                  2877   \n",
              "\n",
              "     in_spotify_charts                                            streams  \\\n",
              "574                  0  BPM110KeyAModeMajorDanceability53Valence75Ener...   \n",
              "\n",
              "     in_apple_playlists  ...  key   mode  danceability_% valence_%  energy_%  \\\n",
              "574                  16  ...    A  Major              53        75        69   \n",
              "\n",
              "    acousticness_% instrumentalness_%  liveness_%  speechiness_%  \\\n",
              "574              7                  0          17              3   \n",
              "\n",
              "     streams_numerics  \n",
              "574               NaN  \n",
              "\n",
              "[1 rows x 25 columns]"
            ]
          },
          "execution_count": 24,
          "metadata": {},
          "output_type": "execute_result"
        }
      ],
      "source": [
        "# Verificamos si stream tiene un dato no numérico\n",
        "df['streams_numerics'] = pd.to_numeric(df['streams'], errors='coerce')\n",
        "df[df['streams_numerics'].isna()]"
      ]
    },
    {
      "cell_type": "code",
      "execution_count": 25,
      "metadata": {
        "colab": {
          "base_uri": "https://localhost:8080/",
          "height": 99
        },
        "id": "Umlqi9O9rIid",
        "outputId": "a3a19298-802b-4173-8f2a-c8baf999af6f"
      },
      "outputs": [
        {
          "data": {
            "text/html": [
              "<div>\n",
              "<style scoped>\n",
              "    .dataframe tbody tr th:only-of-type {\n",
              "        vertical-align: middle;\n",
              "    }\n",
              "\n",
              "    .dataframe tbody tr th {\n",
              "        vertical-align: top;\n",
              "    }\n",
              "\n",
              "    .dataframe thead th {\n",
              "        text-align: right;\n",
              "    }\n",
              "</style>\n",
              "<table border=\"1\" class=\"dataframe\">\n",
              "  <thead>\n",
              "    <tr style=\"text-align: right;\">\n",
              "      <th></th>\n",
              "      <th>track_name</th>\n",
              "      <th>artist(s)_name</th>\n",
              "      <th>artist_count</th>\n",
              "      <th>released_year</th>\n",
              "      <th>released_month</th>\n",
              "      <th>released_day</th>\n",
              "      <th>in_spotify_playlists</th>\n",
              "      <th>in_spotify_charts</th>\n",
              "      <th>streams</th>\n",
              "      <th>in_apple_playlists</th>\n",
              "      <th>...</th>\n",
              "      <th>key</th>\n",
              "      <th>mode</th>\n",
              "      <th>danceability_%</th>\n",
              "      <th>valence_%</th>\n",
              "      <th>energy_%</th>\n",
              "      <th>acousticness_%</th>\n",
              "      <th>instrumentalness_%</th>\n",
              "      <th>liveness_%</th>\n",
              "      <th>speechiness_%</th>\n",
              "      <th>streams_numerics</th>\n",
              "    </tr>\n",
              "  </thead>\n",
              "  <tbody>\n",
              "  </tbody>\n",
              "</table>\n",
              "<p>0 rows × 25 columns</p>\n",
              "</div>"
            ],
            "text/plain": [
              "Empty DataFrame\n",
              "Columns: [track_name, artist(s)_name, artist_count, released_year, released_month, released_day, in_spotify_playlists, in_spotify_charts, streams, in_apple_playlists, in_apple_charts, in_deezer_playlists, in_deezer_charts, in_shazam_charts, bpm, key, mode, danceability_%, valence_%, energy_%, acousticness_%, instrumentalness_%, liveness_%, speechiness_%, streams_numerics]\n",
              "Index: []\n",
              "\n",
              "[0 rows x 25 columns]"
            ]
          },
          "execution_count": 25,
          "metadata": {},
          "output_type": "execute_result"
        }
      ],
      "source": [
        "# Verificamos que solo es una fila que contiene un dato no númerico lo cual no va a afectar el análisis final, procedemos a eliminarlo\n",
        "df = df.dropna(subset=['streams_numerics'])\n",
        "df[df['streams_numerics'].isna()]"
      ]
    },
    {
      "cell_type": "code",
      "execution_count": 26,
      "metadata": {
        "id": "X__vxIq4sNG6"
      },
      "outputs": [],
      "source": [
        "df = df.drop('streams_numerics', axis=1)"
      ]
    },
    {
      "cell_type": "code",
      "execution_count": 27,
      "metadata": {
        "id": "KUycZlpMsnBL"
      },
      "outputs": [],
      "source": [
        "df['streams'] = df['streams'].astype('Int64')"
      ]
    },
    {
      "cell_type": "markdown",
      "metadata": {
        "id": "vV7GCT2Bs5Oy"
      },
      "source": [
        "### Medidas"
      ]
    },
    {
      "cell_type": "markdown",
      "metadata": {
        "id": "ztoDQISy21Np"
      },
      "source": [
        "Aca vamos a poder ver las cantidad de transmisiones promedio que hay en las musicas de Spotify"
      ]
    },
    {
      "cell_type": "code",
      "execution_count": 28,
      "metadata": {
        "colab": {
          "base_uri": "https://localhost:8080/"
        },
        "id": "dFzLs4tWh-ok",
        "outputId": "ea392c66-dcce-4913-da13-21624a5b8fbe"
      },
      "outputs": [
        {
          "name": "stdout",
          "output_type": "stream",
          "text": [
            "Media: 514137424.93907565\n",
            "Mediana: 290530915.0\n",
            "Moda:\n",
            " 0     156338624\n",
            "1     395591396\n",
            "2     723894473\n",
            "3    1223481149\n",
            "Name: streams, dtype: Int64\n"
          ]
        }
      ],
      "source": [
        "# Obtenemos las medidas centrales de las transmisiones de musicas que tiene Spotify\n",
        "media = df['streams'].mean()\n",
        "mediana = df['streams'].median()\n",
        "moda_series = df['streams'].mode()\n",
        "\n",
        "# Si quiero la primera moda\n",
        "moda = moda_series[0]\n",
        "\n",
        "print(\"Media:\", media)\n",
        "print(\"Mediana:\", mediana)\n",
        "print(\"Moda:\\n\", moda_series)\n"
      ]
    },
    {
      "cell_type": "markdown",
      "metadata": {
        "id": "EkoY6xPj3B8o"
      },
      "source": [
        "Al tener una gran cantidad de transmisiones en todas las musicas vamos a enfocarnos en las musicas que fueron lanzadas en los ultimos años"
      ]
    },
    {
      "cell_type": "code",
      "execution_count": 29,
      "metadata": {
        "colab": {
          "base_uri": "https://localhost:8080/"
        },
        "id": "Gpd0OYgNxqBI",
        "outputId": "78094c10-89c5-4bdb-be7f-cbc12a21e474"
      },
      "outputs": [
        {
          "name": "stdout",
          "output_type": "stream",
          "text": [
            "[1930, 1942, 1946, 1950, 1952, 1957, 1958, 1959, 1963, 1968, 1970, 1971, 1973, 1975, 1979, 1982, 1983, 1984, 1985, 1986, 1987, 1991, 1992, 1994, 1995, 1996, 1997, 1998, 1999, 2000, 2002, 2003, 2004, 2005, 2007, 2008, 2010, 2011, 2012, 2013, 2014, 2015, 2016, 2017, 2018, 2019, 2020, 2021, 2022, 2023]\n"
          ]
        }
      ],
      "source": [
        "# Verificamos que años hay en nuestro dataset\n",
        "años = sorted(df['released_year'].unique())\n",
        "print(años)"
      ]
    },
    {
      "cell_type": "code",
      "execution_count": 30,
      "metadata": {
        "id": "ILqVjl7I3VAS"
      },
      "outputs": [],
      "source": [
        "# Tomaremos los ultimos años para analizarlo\n",
        "df_new = df[(df['released_year']>=2019) & (df['released_year']<=2023)]"
      ]
    },
    {
      "cell_type": "code",
      "execution_count": 31,
      "metadata": {
        "colab": {
          "base_uri": "https://localhost:8080/",
          "height": 342
        },
        "id": "MD6jzbwK7iGf",
        "outputId": "1f4c4275-307b-4e15-ee3f-4f2a80513a96"
      },
      "outputs": [
        {
          "data": {
            "text/html": [
              "<div>\n",
              "<style scoped>\n",
              "    .dataframe tbody tr th:only-of-type {\n",
              "        vertical-align: middle;\n",
              "    }\n",
              "\n",
              "    .dataframe tbody tr th {\n",
              "        vertical-align: top;\n",
              "    }\n",
              "\n",
              "    .dataframe thead th {\n",
              "        text-align: right;\n",
              "    }\n",
              "</style>\n",
              "<table border=\"1\" class=\"dataframe\">\n",
              "  <thead>\n",
              "    <tr style=\"text-align: right;\">\n",
              "      <th></th>\n",
              "      <th>track_name</th>\n",
              "      <th>artist(s)_name</th>\n",
              "      <th>artist_count</th>\n",
              "      <th>released_year</th>\n",
              "      <th>released_month</th>\n",
              "      <th>released_day</th>\n",
              "      <th>in_spotify_playlists</th>\n",
              "      <th>in_spotify_charts</th>\n",
              "      <th>streams</th>\n",
              "      <th>in_apple_playlists</th>\n",
              "      <th>...</th>\n",
              "      <th>bpm</th>\n",
              "      <th>key</th>\n",
              "      <th>mode</th>\n",
              "      <th>danceability_%</th>\n",
              "      <th>valence_%</th>\n",
              "      <th>energy_%</th>\n",
              "      <th>acousticness_%</th>\n",
              "      <th>instrumentalness_%</th>\n",
              "      <th>liveness_%</th>\n",
              "      <th>speechiness_%</th>\n",
              "    </tr>\n",
              "  </thead>\n",
              "  <tbody>\n",
              "    <tr>\n",
              "      <th>0</th>\n",
              "      <td>Seven (feat. Latto) (Explicit Ver.)</td>\n",
              "      <td>Latto, Jung Kook</td>\n",
              "      <td>2</td>\n",
              "      <td>2023</td>\n",
              "      <td>7</td>\n",
              "      <td>14</td>\n",
              "      <td>553</td>\n",
              "      <td>147</td>\n",
              "      <td>141381703</td>\n",
              "      <td>43</td>\n",
              "      <td>...</td>\n",
              "      <td>125</td>\n",
              "      <td>B</td>\n",
              "      <td>Major</td>\n",
              "      <td>80</td>\n",
              "      <td>89</td>\n",
              "      <td>83</td>\n",
              "      <td>31</td>\n",
              "      <td>0</td>\n",
              "      <td>8</td>\n",
              "      <td>4</td>\n",
              "    </tr>\n",
              "    <tr>\n",
              "      <th>1</th>\n",
              "      <td>LALA</td>\n",
              "      <td>Myke Towers</td>\n",
              "      <td>1</td>\n",
              "      <td>2023</td>\n",
              "      <td>3</td>\n",
              "      <td>23</td>\n",
              "      <td>1474</td>\n",
              "      <td>48</td>\n",
              "      <td>133716286</td>\n",
              "      <td>48</td>\n",
              "      <td>...</td>\n",
              "      <td>92</td>\n",
              "      <td>C#</td>\n",
              "      <td>Major</td>\n",
              "      <td>71</td>\n",
              "      <td>61</td>\n",
              "      <td>74</td>\n",
              "      <td>7</td>\n",
              "      <td>0</td>\n",
              "      <td>10</td>\n",
              "      <td>4</td>\n",
              "    </tr>\n",
              "    <tr>\n",
              "      <th>2</th>\n",
              "      <td>vampire</td>\n",
              "      <td>Olivia Rodrigo</td>\n",
              "      <td>1</td>\n",
              "      <td>2023</td>\n",
              "      <td>6</td>\n",
              "      <td>30</td>\n",
              "      <td>1397</td>\n",
              "      <td>113</td>\n",
              "      <td>140003974</td>\n",
              "      <td>94</td>\n",
              "      <td>...</td>\n",
              "      <td>138</td>\n",
              "      <td>F</td>\n",
              "      <td>Major</td>\n",
              "      <td>51</td>\n",
              "      <td>32</td>\n",
              "      <td>53</td>\n",
              "      <td>17</td>\n",
              "      <td>0</td>\n",
              "      <td>31</td>\n",
              "      <td>6</td>\n",
              "    </tr>\n",
              "    <tr>\n",
              "      <th>3</th>\n",
              "      <td>Cruel Summer</td>\n",
              "      <td>Taylor Swift</td>\n",
              "      <td>1</td>\n",
              "      <td>2019</td>\n",
              "      <td>8</td>\n",
              "      <td>23</td>\n",
              "      <td>7858</td>\n",
              "      <td>100</td>\n",
              "      <td>800840817</td>\n",
              "      <td>116</td>\n",
              "      <td>...</td>\n",
              "      <td>170</td>\n",
              "      <td>A</td>\n",
              "      <td>Major</td>\n",
              "      <td>55</td>\n",
              "      <td>58</td>\n",
              "      <td>72</td>\n",
              "      <td>11</td>\n",
              "      <td>0</td>\n",
              "      <td>11</td>\n",
              "      <td>15</td>\n",
              "    </tr>\n",
              "    <tr>\n",
              "      <th>4</th>\n",
              "      <td>WHERE SHE GOES</td>\n",
              "      <td>Bad Bunny</td>\n",
              "      <td>1</td>\n",
              "      <td>2023</td>\n",
              "      <td>5</td>\n",
              "      <td>18</td>\n",
              "      <td>3133</td>\n",
              "      <td>50</td>\n",
              "      <td>303236322</td>\n",
              "      <td>84</td>\n",
              "      <td>...</td>\n",
              "      <td>144</td>\n",
              "      <td>A</td>\n",
              "      <td>Minor</td>\n",
              "      <td>65</td>\n",
              "      <td>23</td>\n",
              "      <td>80</td>\n",
              "      <td>14</td>\n",
              "      <td>63</td>\n",
              "      <td>11</td>\n",
              "      <td>6</td>\n",
              "    </tr>\n",
              "  </tbody>\n",
              "</table>\n",
              "<p>5 rows × 24 columns</p>\n",
              "</div>"
            ],
            "text/plain": [
              "                            track_name    artist(s)_name  artist_count  \\\n",
              "0  Seven (feat. Latto) (Explicit Ver.)  Latto, Jung Kook             2   \n",
              "1                                 LALA       Myke Towers             1   \n",
              "2                              vampire    Olivia Rodrigo             1   \n",
              "3                         Cruel Summer      Taylor Swift             1   \n",
              "4                       WHERE SHE GOES         Bad Bunny             1   \n",
              "\n",
              "   released_year  released_month  released_day  in_spotify_playlists  \\\n",
              "0           2023               7            14                   553   \n",
              "1           2023               3            23                  1474   \n",
              "2           2023               6            30                  1397   \n",
              "3           2019               8            23                  7858   \n",
              "4           2023               5            18                  3133   \n",
              "\n",
              "   in_spotify_charts    streams  in_apple_playlists  ...  bpm key   mode  \\\n",
              "0                147  141381703                  43  ...  125   B  Major   \n",
              "1                 48  133716286                  48  ...   92  C#  Major   \n",
              "2                113  140003974                  94  ...  138   F  Major   \n",
              "3                100  800840817                 116  ...  170   A  Major   \n",
              "4                 50  303236322                  84  ...  144   A  Minor   \n",
              "\n",
              "  danceability_%  valence_% energy_% acousticness_%  instrumentalness_%  \\\n",
              "0             80         89       83             31                   0   \n",
              "1             71         61       74              7                   0   \n",
              "2             51         32       53             17                   0   \n",
              "3             55         58       72             11                   0   \n",
              "4             65         23       80             14                  63   \n",
              "\n",
              "   liveness_%  speechiness_%  \n",
              "0           8              4  \n",
              "1          10              4  \n",
              "2          31              6  \n",
              "3          11             15  \n",
              "4          11              6  \n",
              "\n",
              "[5 rows x 24 columns]"
            ]
          },
          "execution_count": 31,
          "metadata": {},
          "output_type": "execute_result"
        }
      ],
      "source": [
        "df_new.head()"
      ]
    },
    {
      "cell_type": "code",
      "execution_count": 32,
      "metadata": {
        "id": "Z7Vz7wzv7J8v"
      },
      "outputs": [],
      "source": [
        "# Veremos la distribución de las transmisiones\n",
        "sns.set(style='whitegrid')"
      ]
    },
    {
      "cell_type": "code",
      "execution_count": 33,
      "metadata": {
        "colab": {
          "base_uri": "https://localhost:8080/",
          "height": 519
        },
        "id": "cMRVJx_U-Ydh",
        "outputId": "71f72786-63e9-40cb-c41b-14951341219f"
      },
      "outputs": [
        {
          "name": "stderr",
          "output_type": "stream",
          "text": [
            "c:\\Proyectos\\SpotifyHits_DescriptiveStats\\.conda\\Lib\\site-packages\\seaborn\\_oldcore.py:1119: FutureWarning: use_inf_as_na option is deprecated and will be removed in a future version. Convert inf values to NaN before operating instead.\n",
            "  with pd.option_context('mode.use_inf_as_na', True):\n",
            "c:\\Proyectos\\SpotifyHits_DescriptiveStats\\.conda\\Lib\\site-packages\\seaborn\\_oldcore.py:1075: FutureWarning: When grouping with a length-1 list-like, you will need to pass a length-1 tuple to get_group in a future version of pandas. Pass `(name,)` instead of `name` to silence this warning.\n",
            "  data_subset = grouped_data.get_group(pd_key)\n",
            "c:\\Proyectos\\SpotifyHits_DescriptiveStats\\.conda\\Lib\\site-packages\\seaborn\\_oldcore.py:1075: FutureWarning: When grouping with a length-1 list-like, you will need to pass a length-1 tuple to get_group in a future version of pandas. Pass `(name,)` instead of `name` to silence this warning.\n",
            "  data_subset = grouped_data.get_group(pd_key)\n",
            "c:\\Proyectos\\SpotifyHits_DescriptiveStats\\.conda\\Lib\\site-packages\\seaborn\\_oldcore.py:1075: FutureWarning: When grouping with a length-1 list-like, you will need to pass a length-1 tuple to get_group in a future version of pandas. Pass `(name,)` instead of `name` to silence this warning.\n",
            "  data_subset = grouped_data.get_group(pd_key)\n",
            "c:\\Proyectos\\SpotifyHits_DescriptiveStats\\.conda\\Lib\\site-packages\\seaborn\\_oldcore.py:1075: FutureWarning: When grouping with a length-1 list-like, you will need to pass a length-1 tuple to get_group in a future version of pandas. Pass `(name,)` instead of `name` to silence this warning.\n",
            "  data_subset = grouped_data.get_group(pd_key)\n",
            "c:\\Proyectos\\SpotifyHits_DescriptiveStats\\.conda\\Lib\\site-packages\\seaborn\\_oldcore.py:1075: FutureWarning: When grouping with a length-1 list-like, you will need to pass a length-1 tuple to get_group in a future version of pandas. Pass `(name,)` instead of `name` to silence this warning.\n",
            "  data_subset = grouped_data.get_group(pd_key)\n",
            "c:\\Proyectos\\SpotifyHits_DescriptiveStats\\.conda\\Lib\\site-packages\\seaborn\\_oldcore.py:1075: FutureWarning: When grouping with a length-1 list-like, you will need to pass a length-1 tuple to get_group in a future version of pandas. Pass `(name,)` instead of `name` to silence this warning.\n",
            "  data_subset = grouped_data.get_group(pd_key)\n",
            "c:\\Proyectos\\SpotifyHits_DescriptiveStats\\.conda\\Lib\\site-packages\\seaborn\\_oldcore.py:1075: FutureWarning: When grouping with a length-1 list-like, you will need to pass a length-1 tuple to get_group in a future version of pandas. Pass `(name,)` instead of `name` to silence this warning.\n",
            "  data_subset = grouped_data.get_group(pd_key)\n",
            "c:\\Proyectos\\SpotifyHits_DescriptiveStats\\.conda\\Lib\\site-packages\\seaborn\\_oldcore.py:1075: FutureWarning: When grouping with a length-1 list-like, you will need to pass a length-1 tuple to get_group in a future version of pandas. Pass `(name,)` instead of `name` to silence this warning.\n",
            "  data_subset = grouped_data.get_group(pd_key)\n",
            "c:\\Proyectos\\SpotifyHits_DescriptiveStats\\.conda\\Lib\\site-packages\\seaborn\\_oldcore.py:1075: FutureWarning: When grouping with a length-1 list-like, you will need to pass a length-1 tuple to get_group in a future version of pandas. Pass `(name,)` instead of `name` to silence this warning.\n",
            "  data_subset = grouped_data.get_group(pd_key)\n",
            "c:\\Proyectos\\SpotifyHits_DescriptiveStats\\.conda\\Lib\\site-packages\\seaborn\\_oldcore.py:1075: FutureWarning: When grouping with a length-1 list-like, you will need to pass a length-1 tuple to get_group in a future version of pandas. Pass `(name,)` instead of `name` to silence this warning.\n",
            "  data_subset = grouped_data.get_group(pd_key)\n"
          ]
        },
        {
          "data": {
            "text/plain": [
              "<seaborn.axisgrid.FacetGrid at 0x1e089c4b110>"
            ]
          },
          "execution_count": 33,
          "metadata": {},
          "output_type": "execute_result"
        },
        {
          "data": {
            "image/png": "[encoded data removed]",
            "text/plain": [
              "<Figure size 618.097x500 with 1 Axes>"
            ]
          },
          "metadata": {},
          "output_type": "display_data"
        }
      ],
      "source": [
        "sns.displot(df_new, x='streams', hue='released_year', multiple='stack', kind='hist', bins=30)\n",
        "# Se visualiza que en las musicas que se lanzaron en el año 2022 y 2023 tuvieron transmisiones menores a los 100 millones en\n",
        "# comparación a los que se lanzaron en los años anteriores que tuvieron hasta 3 millones de transmisiones"
      ]
    },
    {
      "cell_type": "code",
      "execution_count": null,
      "metadata": {
        "id": "K1OcRrQWGNr2"
      },
      "outputs": [],
      "source": []
    },
    {
      "cell_type": "markdown",
      "metadata": {
        "id": "Km_rsw5IkRqF"
      },
      "source": [
        "## Medidas de Dispersión"
      ]
    },
    {
      "cell_type": "markdown",
      "metadata": {
        "id": "TveoywGjk0K-"
      },
      "source": [
        "Ahora vamos analizar la cantidad de veces que estuvieron en la lista de exitos de Spotify para luego poder analizar si hay una correlación entre la cantidad de transmisiones, la cantidad de veces que estuvieron en la lista de exitos y los beats por minuto que tiene la musica"
      ]
    },
    {
      "cell_type": "code",
      "execution_count": 34,
      "metadata": {
        "colab": {
          "base_uri": "https://localhost:8080/"
        },
        "id": "-zgtcYcCl3ww",
        "outputId": "2bd6e871-813e-4b54-9f88-0aa4989336c4"
      },
      "outputs": [
        {
          "name": "stdout",
          "output_type": "stream",
          "text": [
            "Medidas centrales para 'in_spotify_charts':\n",
            "\n",
            "Media: 11.482444733420026\n",
            "Mediana: 3.0\n",
            "Moda:\n",
            " 0    0\n",
            "Name: in_spotify_charts, dtype: int64\n",
            "\n",
            "Medidas de dispersión para 'in_spotify_charts':\n",
            "\n",
            "Desviación estándar: 19.429024579191587\n",
            "Primer cuartil (Q1): 0.0\n",
            "Tercer cuartil (Q3): 15.0\n",
            "Valor mínimo: 0.0\n",
            "Valor máximo: 147.0\n",
            "Rango intercuartílico (IQR): 15.0\n",
            "Límite inferior (Outliers): -22.5\n",
            "Límite superior (Outliers): 37.5\n"
          ]
        }
      ],
      "source": [
        "# Primero verificamos sus medidas centrales y su medidas de dispersión para tener una idea de los datos que tenemos\n",
        "mean_charts = df_new['in_spotify_charts'].mean()\n",
        "median_charts = df_new['in_spotify_charts'].median()\n",
        "mode_charts = df_new['in_spotify_charts'].mode()\n",
        "\n",
        "desv_std_charts = df_new['in_spotify_charts'].std()\n",
        "q1_charts = df_new['in_spotify_charts'].quantile(q=0.25)\n",
        "q3_charts = df_new['in_spotify_charts'].quantile(q=0.75)\n",
        "min_val_charts = df_new['in_spotify_charts'].quantile(q=0)\n",
        "max_val_charts = df_new['in_spotify_charts'].quantile(q=1.0)\n",
        "iqr_charts = q3_charts - q1_charts\n",
        "\n",
        "# Detección de OutLiers\n",
        "min_limit_charts = q1_charts - 1.5 * iqr_charts\n",
        "max_limit_charts = q3_charts + 1.5 * iqr_charts\n",
        "\n",
        "# Impresión de las medidas centrales y de dispersión\n",
        "print(\"Medidas centrales para 'in_spotify_charts':\\n\")\n",
        "print(\"Media:\", mean_charts)\n",
        "print(\"Mediana:\", median_charts)\n",
        "print(\"Moda:\\n\", mode_charts)\n",
        "print(\"\\nMedidas de dispersión para 'in_spotify_charts':\\n\")\n",
        "print(\"Desviación estándar:\", desv_std_charts)\n",
        "print(\"Primer cuartil (Q1):\", q1_charts)\n",
        "print(\"Tercer cuartil (Q3):\", q3_charts)\n",
        "print(\"Valor mínimo:\", min_val_charts)\n",
        "print(\"Valor máximo:\", max_val_charts)\n",
        "print(\"Rango intercuartílico (IQR):\", iqr_charts)\n",
        "print(\"Límite inferior (Outliers):\", min_limit_charts)\n",
        "print(\"Límite superior (Outliers):\", max_limit_charts)"
      ]
    },
    {
      "cell_type": "code",
      "execution_count": 35,
      "metadata": {
        "id": "-NQvTu1N4FjG"
      },
      "outputs": [],
      "source": [
        "sns.set_theme()\n",
        "sns.set(style=\"ticks\", font_scale=0.5)"
      ]
    },
    {
      "cell_type": "code",
      "execution_count": 36,
      "metadata": {
        "colab": {
          "base_uri": "https://localhost:8080/",
          "height": 472
        },
        "id": "quS3Ua6OrFI8",
        "outputId": "ebb8a889-53d7-4493-9c02-8902eb6b7366"
      },
      "outputs": [
        {
          "name": "stderr",
          "output_type": "stream",
          "text": [
            "c:\\Proyectos\\SpotifyHits_DescriptiveStats\\.conda\\Lib\\site-packages\\seaborn\\_oldcore.py:1119: FutureWarning: use_inf_as_na option is deprecated and will be removed in a future version. Convert inf values to NaN before operating instead.\n",
            "  with pd.option_context('mode.use_inf_as_na', True):\n"
          ]
        },
        {
          "data": {
            "image/png": "[encoded data removed]",
            "text/plain": [
              "<Figure size 1000x500 with 2 Axes>"
            ]
          },
          "metadata": {},
          "output_type": "display_data"
        }
      ],
      "source": [
        "f, (ax_hist, ax_box) = plt.subplots(1,2,figsize=(10,5))\n",
        "sns.histplot(data=df_new, x='in_spotify_charts', ax=ax_hist)\n",
        "sns.boxplot(data=df_new, x='in_spotify_charts', ax=ax_box)\n",
        "sns.despine(offset=10, trim=True)\n",
        "# como podemos observar en el gráfico existe varios datos anómalos en la data, mayormente la cantidad de veces en que las musicas\n",
        "# llegan a la lista de exitos de spotify es de 0 a 20."
      ]
    },
    {
      "cell_type": "code",
      "execution_count": 37,
      "metadata": {
        "colab": {
          "base_uri": "https://localhost:8080/",
          "height": 457
        },
        "id": "L4wBGP7hM-0H",
        "outputId": "a46e1e90-edb5-4fef-a522-e5d52032e2dc"
      },
      "outputs": [
        {
          "data": {
            "image/png": "[encoded data removed]",
            "text/plain": [
              "<Figure size 640x480 with 1 Axes>"
            ]
          },
          "metadata": {},
          "output_type": "display_data"
        }
      ],
      "source": [
        "# Ahora veremos el comportamiento por año\n",
        "sns.boxplot(data=df_new, y='in_spotify_charts', x='released_year', hue='released_year')\n",
        "sns.despine(offset=10, trim=True)\n",
        "# Podemos observar que en el año 2023 las musicas llegaron hasta 40 veces a la lista de exitos de Spotify"
      ]
    },
    {
      "cell_type": "code",
      "execution_count": 38,
      "metadata": {
        "colab": {
          "base_uri": "https://localhost:8080/",
          "height": 638
        },
        "id": "E_Dqc-hSrnGp",
        "outputId": "c65c6621-3dc9-4e5b-880a-bb5a76e6e645"
      },
      "outputs": [
        {
          "name": "stderr",
          "output_type": "stream",
          "text": [
            "c:\\Proyectos\\SpotifyHits_DescriptiveStats\\.conda\\Lib\\site-packages\\seaborn\\_oldcore.py:1119: FutureWarning: use_inf_as_na option is deprecated and will be removed in a future version. Convert inf values to NaN before operating instead.\n",
            "  with pd.option_context('mode.use_inf_as_na', True):\n",
            "c:\\Proyectos\\SpotifyHits_DescriptiveStats\\.conda\\Lib\\site-packages\\seaborn\\_oldcore.py:1119: FutureWarning: use_inf_as_na option is deprecated and will be removed in a future version. Convert inf values to NaN before operating instead.\n",
            "  with pd.option_context('mode.use_inf_as_na', True):\n",
            "c:\\Proyectos\\SpotifyHits_DescriptiveStats\\.conda\\Lib\\site-packages\\seaborn\\_oldcore.py:1075: FutureWarning: When grouping with a length-1 list-like, you will need to pass a length-1 tuple to get_group in a future version of pandas. Pass `(name,)` instead of `name` to silence this warning.\n",
            "  data_subset = grouped_data.get_group(pd_key)\n",
            "c:\\Proyectos\\SpotifyHits_DescriptiveStats\\.conda\\Lib\\site-packages\\seaborn\\_oldcore.py:1119: FutureWarning: use_inf_as_na option is deprecated and will be removed in a future version. Convert inf values to NaN before operating instead.\n",
            "  with pd.option_context('mode.use_inf_as_na', True):\n",
            "c:\\Proyectos\\SpotifyHits_DescriptiveStats\\.conda\\Lib\\site-packages\\seaborn\\_oldcore.py:1075: FutureWarning: When grouping with a length-1 list-like, you will need to pass a length-1 tuple to get_group in a future version of pandas. Pass `(name,)` instead of `name` to silence this warning.\n",
            "  data_subset = grouped_data.get_group(pd_key)\n",
            "c:\\Proyectos\\SpotifyHits_DescriptiveStats\\.conda\\Lib\\site-packages\\seaborn\\_oldcore.py:1075: FutureWarning: When grouping with a length-1 list-like, you will need to pass a length-1 tuple to get_group in a future version of pandas. Pass `(name,)` instead of `name` to silence this warning.\n",
            "  data_subset = grouped_data.get_group(pd_key)\n",
            "c:\\Proyectos\\SpotifyHits_DescriptiveStats\\.conda\\Lib\\site-packages\\seaborn\\_oldcore.py:1075: FutureWarning: When grouping with a length-1 list-like, you will need to pass a length-1 tuple to get_group in a future version of pandas. Pass `(name,)` instead of `name` to silence this warning.\n",
            "  data_subset = grouped_data.get_group(pd_key)\n",
            "c:\\Proyectos\\SpotifyHits_DescriptiveStats\\.conda\\Lib\\site-packages\\seaborn\\_oldcore.py:1075: FutureWarning: When grouping with a length-1 list-like, you will need to pass a length-1 tuple to get_group in a future version of pandas. Pass `(name,)` instead of `name` to silence this warning.\n",
            "  data_subset = grouped_data.get_group(pd_key)\n",
            "c:\\Proyectos\\SpotifyHits_DescriptiveStats\\.conda\\Lib\\site-packages\\seaborn\\_oldcore.py:1075: FutureWarning: When grouping with a length-1 list-like, you will need to pass a length-1 tuple to get_group in a future version of pandas. Pass `(name,)` instead of `name` to silence this warning.\n",
            "  data_subset = grouped_data.get_group(pd_key)\n",
            "c:\\Proyectos\\SpotifyHits_DescriptiveStats\\.conda\\Lib\\site-packages\\seaborn\\_oldcore.py:1075: FutureWarning: When grouping with a length-1 list-like, you will need to pass a length-1 tuple to get_group in a future version of pandas. Pass `(name,)` instead of `name` to silence this warning.\n",
            "  data_subset = grouped_data.get_group(pd_key)\n",
            "c:\\Proyectos\\SpotifyHits_DescriptiveStats\\.conda\\Lib\\site-packages\\seaborn\\_oldcore.py:1119: FutureWarning: use_inf_as_na option is deprecated and will be removed in a future version. Convert inf values to NaN before operating instead.\n",
            "  with pd.option_context('mode.use_inf_as_na', True):\n",
            "c:\\Proyectos\\SpotifyHits_DescriptiveStats\\.conda\\Lib\\site-packages\\seaborn\\_oldcore.py:1075: FutureWarning: When grouping with a length-1 list-like, you will need to pass a length-1 tuple to get_group in a future version of pandas. Pass `(name,)` instead of `name` to silence this warning.\n",
            "  data_subset = grouped_data.get_group(pd_key)\n",
            "c:\\Proyectos\\SpotifyHits_DescriptiveStats\\.conda\\Lib\\site-packages\\seaborn\\_oldcore.py:1075: FutureWarning: When grouping with a length-1 list-like, you will need to pass a length-1 tuple to get_group in a future version of pandas. Pass `(name,)` instead of `name` to silence this warning.\n",
            "  data_subset = grouped_data.get_group(pd_key)\n",
            "c:\\Proyectos\\SpotifyHits_DescriptiveStats\\.conda\\Lib\\site-packages\\seaborn\\_oldcore.py:1075: FutureWarning: When grouping with a length-1 list-like, you will need to pass a length-1 tuple to get_group in a future version of pandas. Pass `(name,)` instead of `name` to silence this warning.\n",
            "  data_subset = grouped_data.get_group(pd_key)\n",
            "c:\\Proyectos\\SpotifyHits_DescriptiveStats\\.conda\\Lib\\site-packages\\seaborn\\_oldcore.py:1075: FutureWarning: When grouping with a length-1 list-like, you will need to pass a length-1 tuple to get_group in a future version of pandas. Pass `(name,)` instead of `name` to silence this warning.\n",
            "  data_subset = grouped_data.get_group(pd_key)\n",
            "c:\\Proyectos\\SpotifyHits_DescriptiveStats\\.conda\\Lib\\site-packages\\seaborn\\_oldcore.py:1075: FutureWarning: When grouping with a length-1 list-like, you will need to pass a length-1 tuple to get_group in a future version of pandas. Pass `(name,)` instead of `name` to silence this warning.\n",
            "  data_subset = grouped_data.get_group(pd_key)\n",
            "c:\\Proyectos\\SpotifyHits_DescriptiveStats\\.conda\\Lib\\site-packages\\seaborn\\_oldcore.py:1075: FutureWarning: When grouping with a length-1 list-like, you will need to pass a length-1 tuple to get_group in a future version of pandas. Pass `(name,)` instead of `name` to silence this warning.\n",
            "  data_subset = grouped_data.get_group(pd_key)\n"
          ]
        },
        {
          "data": {
            "image/png": "[encoded data removed]",
            "text/plain": [
              "<Figure size 600x600 with 3 Axes>"
            ]
          },
          "metadata": {},
          "output_type": "display_data"
        }
      ],
      "source": [
        "# Ahora veremos que tanto es la relación que tiene las veces que la musica estuvo en una lista de exito y los beats que tiene cada una de ellas.\n",
        "sns.jointplot(data=df_new, x='in_spotify_charts', y='bpm', hue='released_year', palette='dark', kind='hist',\n",
        "              marginal_kws=dict(bins= 25, fill = True, multiple= 'dodge', legend=True, palette='dark'))\n",
        "sns.despine(offset=10, trim=True)"
      ]
    },
    {
      "cell_type": "code",
      "execution_count": 39,
      "metadata": {
        "colab": {
          "base_uri": "https://localhost:8080/",
          "height": 632
        },
        "id": "RuHDEvz0xPCI",
        "outputId": "faa4efc6-3bbc-4def-8763-89ff9b02ea1b"
      },
      "outputs": [
        {
          "name": "stderr",
          "output_type": "stream",
          "text": [
            "c:\\Proyectos\\SpotifyHits_DescriptiveStats\\.conda\\Lib\\site-packages\\seaborn\\_oldcore.py:1119: FutureWarning: use_inf_as_na option is deprecated and will be removed in a future version. Convert inf values to NaN before operating instead.\n",
            "  with pd.option_context('mode.use_inf_as_na', True):\n",
            "c:\\Proyectos\\SpotifyHits_DescriptiveStats\\.conda\\Lib\\site-packages\\seaborn\\_oldcore.py:1075: FutureWarning: When grouping with a length-1 list-like, you will need to pass a length-1 tuple to get_group in a future version of pandas. Pass `(name,)` instead of `name` to silence this warning.\n",
            "  data_subset = grouped_data.get_group(pd_key)\n",
            "c:\\Proyectos\\SpotifyHits_DescriptiveStats\\.conda\\Lib\\site-packages\\seaborn\\_oldcore.py:1075: FutureWarning: When grouping with a length-1 list-like, you will need to pass a length-1 tuple to get_group in a future version of pandas. Pass `(name,)` instead of `name` to silence this warning.\n",
            "  data_subset = grouped_data.get_group(pd_key)\n",
            "c:\\Proyectos\\SpotifyHits_DescriptiveStats\\.conda\\Lib\\site-packages\\seaborn\\_oldcore.py:1119: FutureWarning: use_inf_as_na option is deprecated and will be removed in a future version. Convert inf values to NaN before operating instead.\n",
            "  with pd.option_context('mode.use_inf_as_na', True):\n",
            "c:\\Proyectos\\SpotifyHits_DescriptiveStats\\.conda\\Lib\\site-packages\\seaborn\\_oldcore.py:1075: FutureWarning: When grouping with a length-1 list-like, you will need to pass a length-1 tuple to get_group in a future version of pandas. Pass `(name,)` instead of `name` to silence this warning.\n",
            "  data_subset = grouped_data.get_group(pd_key)\n",
            "c:\\Proyectos\\SpotifyHits_DescriptiveStats\\.conda\\Lib\\site-packages\\seaborn\\_oldcore.py:1075: FutureWarning: When grouping with a length-1 list-like, you will need to pass a length-1 tuple to get_group in a future version of pandas. Pass `(name,)` instead of `name` to silence this warning.\n",
            "  data_subset = grouped_data.get_group(pd_key)\n"
          ]
        },
        {
          "data": {
            "image/png": "[encoded data removed]",
            "text/plain": [
              "<Figure size 600x600 with 3 Axes>"
            ]
          },
          "metadata": {},
          "output_type": "display_data"
        }
      ],
      "source": [
        "sns.jointplot(data=df_new, x='in_spotify_charts', y='bpm', hue='released_year', palette='dark', marginal_kws=dict(legend=True))\n",
        "sns.despine(offset=10, trim=True)"
      ]
    },
    {
      "cell_type": "markdown",
      "metadata": {
        "id": "7Zv8D9ESxwPi"
      },
      "source": [
        "Anteriormente vimos qu elas musicas del año 2023 eras las que se encontraban mas veces en la listas de éxitos de Spotify, y ahora observamos que estas músicas tienen entre 80 BPM y 180 BPM"
      ]
    },
    {
      "cell_type": "markdown",
      "metadata": {
        "id": "vDEje0Z0BeD4"
      },
      "source": [
        "## Escalamiento para Modelos de Machine Learning"
      ]
    },
    {
      "cell_type": "markdown",
      "metadata": {
        "id": "wHntJNsmBqvt"
      },
      "source": [
        "### Escalamiento cuantitativo"
      ]
    },
    {
      "cell_type": "markdown",
      "metadata": {
        "id": "jDt3DyTLTvBf"
      },
      "source": [
        "#### Escalamiento lineal"
      ]
    },
    {
      "cell_type": "code",
      "execution_count": 40,
      "metadata": {
        "id": "PtAj368uDipf"
      },
      "outputs": [],
      "source": [
        "# Realizaremos 2 escalamiento para ver cual es más rápido\n",
        "# Escalamiento max-min\n",
        "max_streams = df_new['streams'].max()\n",
        "min_streams = df_new['streams'].min()\n",
        "max_min_streams = (2*df_new['streams']-max_streams-min_streams)/max_streams-min_streams\n",
        "\n",
        "#Escalamiento Z-score\n",
        "mean_streams = df_new['streams'].mean()\n",
        "std_streams = df_new['streams'].std()\n",
        "z_score_streams = (df_new['streams'] - mean_streams)/std_streams"
      ]
    },
    {
      "cell_type": "code",
      "execution_count": 41,
      "metadata": {
        "colab": {
          "base_uri": "https://localhost:8080/",
          "height": 498
        },
        "id": "ylA7JgAkHlDm",
        "outputId": "70ae1c35-6653-4299-fe1a-2af068ccf72a"
      },
      "outputs": [
        {
          "data": {
            "image/png": "[encoded data removed]",
            "text/plain": [
              "<Figure size 640x480 with 3 Axes>"
            ]
          },
          "metadata": {},
          "output_type": "display_data"
        }
      ],
      "source": [
        "# Verificar escalamiento\n",
        "f, ax = plt.subplots(3,1, tight_layout=True)\n",
        "ax[0].hist(df_new['streams'])\n",
        "ax[1].hist(max_min_streams)\n",
        "ax[2].hist(z_score_streams)\n",
        "plt.show()"
      ]
    },
    {
      "cell_type": "code",
      "execution_count": 42,
      "metadata": {
        "id": "XsRcJTxjJTuy"
      },
      "outputs": [],
      "source": [
        "# Verificamos la velocidad de cada escalamiento para saber cual elegir para el entrenamiento del modelo de Machien Learning\n",
        "def train_streams():\n",
        "    linear_model.LinearRegression().fit(df_new[['streams']], df_new['streams'])\n",
        "\n",
        "def train_max_min_streams():\n",
        "    linear_model.LinearRegression().fit(max_min_streams.values.reshape(-1, 1), df_new['streams'])\n",
        "\n",
        "def train_z_score_streams():\n",
        "    linear_model.LinearRegression().fit(z_score_streams.values.reshape(-1, 1), df_new['streams'])"
      ]
    },
    {
      "cell_type": "code",
      "execution_count": 43,
      "metadata": {
        "colab": {
          "base_uri": "https://localhost:8080/"
        },
        "id": "OiyVP-7rM1xj",
        "outputId": "719d9dc4-7009-4f86-b920-e500c608fdd0"
      },
      "outputs": [
        {
          "name": "stdout",
          "output_type": "stream",
          "text": [
            "Tiempo de entrenamiento para streams:  0.22579829999995127\n",
            "Tiempo de entrenamiento para max_min_streams:  0.05735840000124881\n",
            "Tiempo de entrenamiento para z_score_stream:  0.07098320000113745\n"
          ]
        }
      ],
      "source": [
        "stream_time = timeit.timeit(train_streams, number=100)\n",
        "max_min_streams_time = timeit.timeit(train_max_min_streams, number=100)\n",
        "z_score_stream_time = timeit.timeit(train_z_score_streams, number=100)\n",
        "\n",
        "print('Tiempo de entrenamiento para streams: ', stream_time)\n",
        "print('Tiempo de entrenamiento para max_min_streams: ', max_min_streams_time)\n",
        "print('Tiempo de entrenamiento para z_score_stream: ', z_score_stream_time)"
      ]
    },
    {
      "cell_type": "markdown",
      "metadata": {
        "id": "zFRcCNoqT5ct"
      },
      "source": [
        "#### Escalamiento no lineal"
      ]
    },
    {
      "cell_type": "code",
      "execution_count": 44,
      "metadata": {
        "colab": {
          "base_uri": "https://localhost:8080/",
          "height": 342
        },
        "id": "ayCjiS0ET9OU",
        "outputId": "d84ca258-89de-4aee-d07b-d483b5273723"
      },
      "outputs": [
        {
          "data": {
            "text/html": [
              "<div>\n",
              "<style scoped>\n",
              "    .dataframe tbody tr th:only-of-type {\n",
              "        vertical-align: middle;\n",
              "    }\n",
              "\n",
              "    .dataframe tbody tr th {\n",
              "        vertical-align: top;\n",
              "    }\n",
              "\n",
              "    .dataframe thead th {\n",
              "        text-align: right;\n",
              "    }\n",
              "</style>\n",
              "<table border=\"1\" class=\"dataframe\">\n",
              "  <thead>\n",
              "    <tr style=\"text-align: right;\">\n",
              "      <th></th>\n",
              "      <th>track_name</th>\n",
              "      <th>artist(s)_name</th>\n",
              "      <th>artist_count</th>\n",
              "      <th>released_year</th>\n",
              "      <th>released_month</th>\n",
              "      <th>released_day</th>\n",
              "      <th>in_spotify_playlists</th>\n",
              "      <th>in_spotify_charts</th>\n",
              "      <th>streams</th>\n",
              "      <th>in_apple_playlists</th>\n",
              "      <th>...</th>\n",
              "      <th>bpm</th>\n",
              "      <th>key</th>\n",
              "      <th>mode</th>\n",
              "      <th>danceability_%</th>\n",
              "      <th>valence_%</th>\n",
              "      <th>energy_%</th>\n",
              "      <th>acousticness_%</th>\n",
              "      <th>instrumentalness_%</th>\n",
              "      <th>liveness_%</th>\n",
              "      <th>speechiness_%</th>\n",
              "    </tr>\n",
              "  </thead>\n",
              "  <tbody>\n",
              "    <tr>\n",
              "      <th>0</th>\n",
              "      <td>Seven (feat. Latto) (Explicit Ver.)</td>\n",
              "      <td>Latto, Jung Kook</td>\n",
              "      <td>2</td>\n",
              "      <td>2023</td>\n",
              "      <td>7</td>\n",
              "      <td>14</td>\n",
              "      <td>553</td>\n",
              "      <td>147</td>\n",
              "      <td>141381703</td>\n",
              "      <td>43</td>\n",
              "      <td>...</td>\n",
              "      <td>125</td>\n",
              "      <td>B</td>\n",
              "      <td>Major</td>\n",
              "      <td>80</td>\n",
              "      <td>89</td>\n",
              "      <td>83</td>\n",
              "      <td>31</td>\n",
              "      <td>0</td>\n",
              "      <td>8</td>\n",
              "      <td>4</td>\n",
              "    </tr>\n",
              "    <tr>\n",
              "      <th>1</th>\n",
              "      <td>LALA</td>\n",
              "      <td>Myke Towers</td>\n",
              "      <td>1</td>\n",
              "      <td>2023</td>\n",
              "      <td>3</td>\n",
              "      <td>23</td>\n",
              "      <td>1474</td>\n",
              "      <td>48</td>\n",
              "      <td>133716286</td>\n",
              "      <td>48</td>\n",
              "      <td>...</td>\n",
              "      <td>92</td>\n",
              "      <td>C#</td>\n",
              "      <td>Major</td>\n",
              "      <td>71</td>\n",
              "      <td>61</td>\n",
              "      <td>74</td>\n",
              "      <td>7</td>\n",
              "      <td>0</td>\n",
              "      <td>10</td>\n",
              "      <td>4</td>\n",
              "    </tr>\n",
              "    <tr>\n",
              "      <th>2</th>\n",
              "      <td>vampire</td>\n",
              "      <td>Olivia Rodrigo</td>\n",
              "      <td>1</td>\n",
              "      <td>2023</td>\n",
              "      <td>6</td>\n",
              "      <td>30</td>\n",
              "      <td>1397</td>\n",
              "      <td>113</td>\n",
              "      <td>140003974</td>\n",
              "      <td>94</td>\n",
              "      <td>...</td>\n",
              "      <td>138</td>\n",
              "      <td>F</td>\n",
              "      <td>Major</td>\n",
              "      <td>51</td>\n",
              "      <td>32</td>\n",
              "      <td>53</td>\n",
              "      <td>17</td>\n",
              "      <td>0</td>\n",
              "      <td>31</td>\n",
              "      <td>6</td>\n",
              "    </tr>\n",
              "    <tr>\n",
              "      <th>3</th>\n",
              "      <td>Cruel Summer</td>\n",
              "      <td>Taylor Swift</td>\n",
              "      <td>1</td>\n",
              "      <td>2019</td>\n",
              "      <td>8</td>\n",
              "      <td>23</td>\n",
              "      <td>7858</td>\n",
              "      <td>100</td>\n",
              "      <td>800840817</td>\n",
              "      <td>116</td>\n",
              "      <td>...</td>\n",
              "      <td>170</td>\n",
              "      <td>A</td>\n",
              "      <td>Major</td>\n",
              "      <td>55</td>\n",
              "      <td>58</td>\n",
              "      <td>72</td>\n",
              "      <td>11</td>\n",
              "      <td>0</td>\n",
              "      <td>11</td>\n",
              "      <td>15</td>\n",
              "    </tr>\n",
              "    <tr>\n",
              "      <th>4</th>\n",
              "      <td>WHERE SHE GOES</td>\n",
              "      <td>Bad Bunny</td>\n",
              "      <td>1</td>\n",
              "      <td>2023</td>\n",
              "      <td>5</td>\n",
              "      <td>18</td>\n",
              "      <td>3133</td>\n",
              "      <td>50</td>\n",
              "      <td>303236322</td>\n",
              "      <td>84</td>\n",
              "      <td>...</td>\n",
              "      <td>144</td>\n",
              "      <td>A</td>\n",
              "      <td>Minor</td>\n",
              "      <td>65</td>\n",
              "      <td>23</td>\n",
              "      <td>80</td>\n",
              "      <td>14</td>\n",
              "      <td>63</td>\n",
              "      <td>11</td>\n",
              "      <td>6</td>\n",
              "    </tr>\n",
              "  </tbody>\n",
              "</table>\n",
              "<p>5 rows × 24 columns</p>\n",
              "</div>"
            ],
            "text/plain": [
              "                            track_name    artist(s)_name  artist_count  \\\n",
              "0  Seven (feat. Latto) (Explicit Ver.)  Latto, Jung Kook             2   \n",
              "1                                 LALA       Myke Towers             1   \n",
              "2                              vampire    Olivia Rodrigo             1   \n",
              "3                         Cruel Summer      Taylor Swift             1   \n",
              "4                       WHERE SHE GOES         Bad Bunny             1   \n",
              "\n",
              "   released_year  released_month  released_day  in_spotify_playlists  \\\n",
              "0           2023               7            14                   553   \n",
              "1           2023               3            23                  1474   \n",
              "2           2023               6            30                  1397   \n",
              "3           2019               8            23                  7858   \n",
              "4           2023               5            18                  3133   \n",
              "\n",
              "   in_spotify_charts    streams  in_apple_playlists  ...  bpm key   mode  \\\n",
              "0                147  141381703                  43  ...  125   B  Major   \n",
              "1                 48  133716286                  48  ...   92  C#  Major   \n",
              "2                113  140003974                  94  ...  138   F  Major   \n",
              "3                100  800840817                 116  ...  170   A  Major   \n",
              "4                 50  303236322                  84  ...  144   A  Minor   \n",
              "\n",
              "  danceability_%  valence_% energy_% acousticness_%  instrumentalness_%  \\\n",
              "0             80         89       83             31                   0   \n",
              "1             71         61       74              7                   0   \n",
              "2             51         32       53             17                   0   \n",
              "3             55         58       72             11                   0   \n",
              "4             65         23       80             14                  63   \n",
              "\n",
              "   liveness_%  speechiness_%  \n",
              "0           8              4  \n",
              "1          10              4  \n",
              "2          31              6  \n",
              "3          11             15  \n",
              "4          11              6  \n",
              "\n",
              "[5 rows x 24 columns]"
            ]
          },
          "execution_count": 44,
          "metadata": {},
          "output_type": "execute_result"
        }
      ],
      "source": [
        "df_new.head()"
      ]
    },
    {
      "cell_type": "code",
      "execution_count": 45,
      "metadata": {
        "colab": {
          "base_uri": "https://localhost:8080/",
          "height": 449
        },
        "id": "gdRMvhicUDZF",
        "outputId": "e4dc576f-b7b7-4823-dca9-01a15d3d9eee"
      },
      "outputs": [
        {
          "data": {
            "text/plain": [
              "<Axes: >"
            ]
          },
          "execution_count": 45,
          "metadata": {},
          "output_type": "execute_result"
        },
        {
          "data": {
            "image/png": "[encoded data removed]",
            "text/plain": [
              "<Figure size 640x480 with 1 Axes>"
            ]
          },
          "metadata": {},
          "output_type": "display_data"
        }
      ],
      "source": [
        "# El escalamiento no lineal se hace para variables no simétricas o sesgadas como esta\n",
        "df_new.in_spotify_charts.hist()"
      ]
    },
    {
      "cell_type": "code",
      "execution_count": 46,
      "metadata": {
        "colab": {
          "base_uri": "https://localhost:8080/",
          "height": 446
        },
        "id": "9-7R4bYiUY2t",
        "outputId": "19fea185-0468-4dfa-f674-adc68cfbce59"
      },
      "outputs": [
        {
          "data": {
            "text/plain": [
              "<Axes: >"
            ]
          },
          "execution_count": 46,
          "metadata": {},
          "output_type": "execute_result"
        },
        {
          "data": {
            "image/png": "[encoded data removed]",
            "text/plain": [
              "<Figure size 640x480 with 1 Axes>"
            ]
          },
          "metadata": {},
          "output_type": "display_data"
        }
      ],
      "source": [
        "# Buscamos p para suavisar la linea de función\n",
        "p=10\n",
        "df_new.in_spotify_charts.apply(lambda x: np.tanh(x/p)).hist()"
      ]
    },
    {
      "cell_type": "markdown",
      "metadata": {
        "id": "jWxu9n78W_Nn"
      },
      "source": [
        "## Correlación"
      ]
    },
    {
      "cell_type": "code",
      "execution_count": 47,
      "metadata": {
        "id": "2ElMDsqPXpEg"
      },
      "outputs": [],
      "source": [
        "# Verificaremos la relación que hay entre las variables más importantes\n",
        "\n",
        "columnas_categoricas = ['artist(s)_name', 'key', 'mode']\n",
        "columnas_numericas = ['streams', 'bpm', 'danceability_%', 'valence_%', 'energy_%',\n",
        "                    'acousticness_%', 'instrumentalness_%', 'liveness_%', 'speechiness_%']\n",
        "\n",
        "# Se transforma a datos numéricos las columnas categoricas\n",
        "encoder = LabelEncoder()\n",
        "df_encoded = df_new[columnas_categoricas].apply(encoder.fit_transform)\n",
        "\n",
        "# Se escala las columnas\n",
        "scaler = StandardScaler()\n",
        "df_categoricas_escaladas = scaler.fit_transform(df_encoded)\n",
        "df_numericas_escaladas = scaler.fit_transform(df_new[columnas_numericas])\n",
        "\n",
        "# Se combina el escalamiento y se crea un dataframe\n",
        "scaled_df = pd.concat([pd.DataFrame(df_categoricas_escaladas, columns=columnas_categoricas),\n",
        "                       pd.DataFrame(df_numericas_escaladas, columns=columnas_numericas)], axis=1)\n",
        "\n",
        "# Calcular la matriz de correlación\n",
        "correlation_matrix = scaled_df.corr()"
      ]
    },
    {
      "cell_type": "code",
      "execution_count": 48,
      "metadata": {
        "colab": {
          "base_uri": "https://localhost:8080/",
          "height": 605
        },
        "id": "8Ft8gZw9gVOe",
        "outputId": "a29d2a3f-4aa7-48a1-c371-83f4f90b38d4"
      },
      "outputs": [
        {
          "data": {
            "image/png": "[encoded data removed]",
            "text/plain": [
              "<Figure size 800x600 with 2 Axes>"
            ]
          },
          "metadata": {},
          "output_type": "display_data"
        }
      ],
      "source": [
        "plt.figure(figsize=(8, 6))\n",
        "sns.heatmap(correlation_matrix, annot=True, cmap='coolwarm', fmt=\".2f\", linewidths=0.5)\n",
        "plt.title('Matriz de correlación')\n",
        "plt.show()"
      ]
    },
    {
      "cell_type": "markdown",
      "metadata": {
        "id": "A1NmDJ_Hssqn"
      },
      "source": [
        "### Conclusiones de la correlación\n",
        "\n",
        "1. Correlación Positiva:\n",
        "\n",
        "Hay una correlación positiva entre 'valence_%' y 'energy_%' con un valor de 0.377416. Esto sugiere que las canciones con un mayor nivel de valencia también tienden a tener un mayor nivel de energía.\n",
        "\n",
        "2. Correlación Negativa:\n",
        "\n",
        "Hay una correlación negativa entre 'energy_%' y 'acousticness_%' con un valor de -0.547103. Esto sugiere que las canciones con un mayor nivel de energía tienden a tener un menor nivel de acústica.\n",
        "\n",
        "3. Correlación Cercana a Cero:\n",
        "\n",
        "Se descarta una de las hipotesis, 'streams' y 'bpm' es bastante baja (0.048530), lo que sugiere que no hay una relación lineal fuerte entre el número de streams y el tempo de la canción.\n",
        "\n",
        "4. Correlación entre Variables Categóricas:\n",
        "\n",
        "Hay una correlación negativa entre 'artist(s)_name' y 'streams' (-0.113883), lo que sugiere que ciertos artistas pueden tener menos streams en comparación con otros.\n",
        "\n",
        "5. Correlación entre Variables Numéricas y Categóricas:\n",
        "\n",
        "Hay una correlación positiva entre 'mode' y 'danceability_%' (0.113425), lo que sugiere que ciertos modos musicales pueden estar asociados con una mayor danceability en las canciones."
      ]
    },
    {
      "cell_type": "markdown",
      "metadata": {
        "id": "GrN1W7h-aN-N"
      },
      "source": [
        "## PCA o Analisis de Componentes principales\n",
        "\n",
        "Ahora que ya sabemos la correlación que hay entre las variables, y las conclusiones, el PCA nos ayudara a una reducción de dimensionalidad para un futuro proyecto de machine learning"
      ]
    },
    {
      "cell_type": "code",
      "execution_count": 49,
      "metadata": {
        "id": "tmiRnwwoaNDu"
      },
      "outputs": [],
      "source": [
        "# En este caso vemos que 'valence_%' y 'energy_% nos pueden brindar la misma información, asi que los reduciremos a un dimensión, para ello usaremos PCA\n",
        "eigen_values, eigen_vectors = np.linalg.eig(correlation_matrix)"
      ]
    },
    {
      "cell_type": "code",
      "execution_count": 50,
      "metadata": {
        "colab": {
          "base_uri": "https://localhost:8080/"
        },
        "id": "gWnm7xRtp3uv",
        "outputId": "ee0d56a9-7688-4a88-9160-331e82803991"
      },
      "outputs": [
        {
          "name": "stdout",
          "output_type": "stream",
          "text": [
            "[2.7070937229931475, 4.872009313392949, 6.3603472906078835, 6.859114566519546, 7.65041341878911, 8.167424828944993, 8.41470223921959, 8.804569182024501, 9.131833515580698, 9.378452209340237, 10.629602649262635, 17.024437063324708]\n"
          ]
        }
      ],
      "source": [
        "variance_explained = []\n",
        "for i in eigen_values:\n",
        "    variance_explained.append((i / sum(eigen_values)) * 100)\n",
        "\n",
        "variance_explained.sort()\n",
        "print(variance_explained)\n",
        "# Aca puedo observar que podria sacrificar hasta 7.5% de la varianza total, asi puedo reducir 2 dimensiones del 2.7% y del 4.8% de la varianza"
      ]
    },
    {
      "cell_type": "code",
      "execution_count": 51,
      "metadata": {
        "colab": {
          "base_uri": "https://localhost:8080/",
          "height": 75
        },
        "id": "MWz5o0FkrGZV",
        "outputId": "33a9c930-4ef8-491d-8c9c-13940334d8aa"
      },
      "outputs": [
        {
          "data": {
            "text/html": [
              "<style>#sk-container-id-1 {color: black;background-color: white;}#sk-container-id-1 pre{padding: 0;}#sk-container-id-1 div.sk-toggleable {background-color: white;}#sk-container-id-1 label.sk-toggleable__label {cursor: pointer;display: block;width: 100%;margin-bottom: 0;padding: 0.3em;box-sizing: border-box;text-align: center;}#sk-container-id-1 label.sk-toggleable__label-arrow:before {content: \"▸\";float: left;margin-right: 0.25em;color: #696969;}#sk-container-id-1 label.sk-toggleable__label-arrow:hover:before {color: black;}#sk-container-id-1 div.sk-estimator:hover label.sk-toggleable__label-arrow:before {color: black;}#sk-container-id-1 div.sk-toggleable__content {max-height: 0;max-width: 0;overflow: hidden;text-align: left;background-color: #f0f8ff;}#sk-container-id-1 div.sk-toggleable__content pre {margin: 0.2em;color: black;border-radius: 0.25em;background-color: #f0f8ff;}#sk-container-id-1 input.sk-toggleable__control:checked~div.sk-toggleable__content {max-height: 200px;max-width: 100%;overflow: auto;}#sk-container-id-1 input.sk-toggleable__control:checked~label.sk-toggleable__label-arrow:before {content: \"▾\";}#sk-container-id-1 div.sk-estimator input.sk-toggleable__control:checked~label.sk-toggleable__label {background-color: #d4ebff;}#sk-container-id-1 div.sk-label input.sk-toggleable__control:checked~label.sk-toggleable__label {background-color: #d4ebff;}#sk-container-id-1 input.sk-hidden--visually {border: 0;clip: rect(1px 1px 1px 1px);clip: rect(1px, 1px, 1px, 1px);height: 1px;margin: -1px;overflow: hidden;padding: 0;position: absolute;width: 1px;}#sk-container-id-1 div.sk-estimator {font-family: monospace;background-color: #f0f8ff;border: 1px dotted black;border-radius: 0.25em;box-sizing: border-box;margin-bottom: 0.5em;}#sk-container-id-1 div.sk-estimator:hover {background-color: #d4ebff;}#sk-container-id-1 div.sk-parallel-item::after {content: \"\";width: 100%;border-bottom: 1px solid gray;flex-grow: 1;}#sk-container-id-1 div.sk-label:hover label.sk-toggleable__label {background-color: #d4ebff;}#sk-container-id-1 div.sk-serial::before {content: \"\";position: absolute;border-left: 1px solid gray;box-sizing: border-box;top: 0;bottom: 0;left: 50%;z-index: 0;}#sk-container-id-1 div.sk-serial {display: flex;flex-direction: column;align-items: center;background-color: white;padding-right: 0.2em;padding-left: 0.2em;position: relative;}#sk-container-id-1 div.sk-item {position: relative;z-index: 1;}#sk-container-id-1 div.sk-parallel {display: flex;align-items: stretch;justify-content: center;background-color: white;position: relative;}#sk-container-id-1 div.sk-item::before, #sk-container-id-1 div.sk-parallel-item::before {content: \"\";position: absolute;border-left: 1px solid gray;box-sizing: border-box;top: 0;bottom: 0;left: 50%;z-index: -1;}#sk-container-id-1 div.sk-parallel-item {display: flex;flex-direction: column;z-index: 1;position: relative;background-color: white;}#sk-container-id-1 div.sk-parallel-item:first-child::after {align-self: flex-end;width: 50%;}#sk-container-id-1 div.sk-parallel-item:last-child::after {align-self: flex-start;width: 50%;}#sk-container-id-1 div.sk-parallel-item:only-child::after {width: 0;}#sk-container-id-1 div.sk-dashed-wrapped {border: 1px dashed gray;margin: 0 0.4em 0.5em 0.4em;box-sizing: border-box;padding-bottom: 0.4em;background-color: white;}#sk-container-id-1 div.sk-label label {font-family: monospace;font-weight: bold;display: inline-block;line-height: 1.2em;}#sk-container-id-1 div.sk-label-container {text-align: center;}#sk-container-id-1 div.sk-container {/* jupyter's `normalize.less` sets `[hidden] { display: none; }` but bootstrap.min.css set `[hidden] { display: none !important; }` so we also need the `!important` here to be able to override the default hidden behavior on the sphinx rendered scikit-learn.org. See: https://github.com/scikit-learn/scikit-learn/issues/21755 */display: inline-block !important;position: relative;}#sk-container-id-1 div.sk-text-repr-fallback {display: none;}</style><div id=\"sk-container-id-1\" class=\"sk-top-container\"><div class=\"sk-text-repr-fallback\"><pre>PCA(n_components=1)</pre><b>In a Jupyter environment, please rerun this cell to show the HTML representation or trust the notebook. <br />On GitHub, the HTML representation is unable to render, please try loading this page with nbviewer.org.</b></div><div class=\"sk-container\" hidden><div class=\"sk-item\"><div class=\"sk-estimator sk-toggleable\"><input class=\"sk-toggleable__control sk-hidden--visually\" id=\"sk-estimator-id-1\" type=\"checkbox\" checked><label for=\"sk-estimator-id-1\" class=\"sk-toggleable__label sk-toggleable__label-arrow\">PCA</label><div class=\"sk-toggleable__content\"><pre>PCA(n_components=1)</pre></div></div></div></div></div>"
            ],
            "text/plain": [
              "PCA(n_components=1)"
            ]
          },
          "execution_count": 51,
          "metadata": {},
          "output_type": "execute_result"
        }
      ],
      "source": [
        "# Seleccionar solo las columnas de interés\n",
        "columnas_de_interes = ['valence_%', 'energy_%']\n",
        "columnas_seleccionadas = scaled_df[columnas_de_interes]\n",
        "\n",
        "# Inicializar y ajustar el modelo PCA\n",
        "pca = PCA(n_components=1)\n",
        "pca.fit(columnas_seleccionadas)"
      ]
    },
    {
      "cell_type": "code",
      "execution_count": 52,
      "metadata": {
        "colab": {
          "base_uri": "https://localhost:8080/"
        },
        "id": "IGSlBWGurMPR",
        "outputId": "5b914e92-b8a4-440f-f56b-a9973b0902d0"
      },
      "outputs": [
        {
          "data": {
            "text/plain": [
              "array([0.68870807])"
            ]
          },
          "execution_count": 52,
          "metadata": {},
          "output_type": "execute_result"
        }
      ],
      "source": [
        "pca.explained_variance_ratio_"
      ]
    },
    {
      "cell_type": "code",
      "execution_count": 53,
      "metadata": {
        "id": "Gc5mLsB5rOJ7"
      },
      "outputs": [],
      "source": [
        "reduced_scaled = pca.transform(columnas_seleccionadas)"
      ]
    },
    {
      "cell_type": "code",
      "execution_count": 54,
      "metadata": {
        "id": "Na2N1i8nsPap"
      },
      "outputs": [],
      "source": [
        "# Convertir el resultado de reduced_scaled a un DataFrame\n",
        "reduced_scaled_df = pd.DataFrame(reduced_scaled, columns=[f'PCA_{i+1}' for i in range(1)])  # Nombrar las nuevas columnas\n",
        "\n",
        "# Concatenar el DataFrame original con las columnas reducidas por PCA\n",
        "df_new = pd.concat([df_new, reduced_scaled_df], axis=1)"
      ]
    },
    {
      "cell_type": "markdown",
      "metadata": {
        "id": "8wkaEeHkxlnq"
      },
      "source": [
        "## Conclusion\n",
        "\n",
        "Ahora las columnas 'valence_%', 'energy_%' forman la columnas PCA_1, esta columna nos brinda la misma información, patrones y comportamientos que esas dos dimensiones, lo que nos va a ayudar para el entrenamiento del futuro modelo machine learning que haremos"
      ]
    }
  ],
  "metadata": {
    "colab": {
      "authorship_tag": "ABX9TyN63+EopDDgk4PEiHi8JuWh",
      "include_colab_link": true,
      "mount_file_id": "1Fj6-HC1xQo1LDdhnw5phN4l45z2TwJSS",
      "provenance": []
    },
    "kernelspec": {
      "display_name": "Python 3",
      "name": "python3"
    },
    "language_info": {
      "codemirror_mode": {
        "name": "ipython",
        "version": 3
      },
      "file_extension": ".py",
      "mimetype": "text/x-python",
      "name": "python",
      "nbconvert_exporter": "python",
      "pygments_lexer": "ipython3",
      "version": "3.11.8"
    }
  },
  "nbformat": 4,
  "nbformat_minor": 0
}
